{
 "cells": [
  {
   "cell_type": "code",
   "execution_count": 19,
   "metadata": {},
   "outputs": [
    {
     "name": "stdout",
     "output_type": "stream",
     "text": [
      "186\n"
     ]
    }
   ],
   "source": [
    "from random import *\n",
    "i = randrange(150,190)  \n",
    "print(i)"
   ]
  },
  {
   "cell_type": "code",
   "execution_count": 127,
   "metadata": {},
   "outputs": [
    {
     "name": "stdout",
     "output_type": "stream",
     "text": [
      "[{'kg': 51, 'height': 156, 'gender': 'M', 'id': 'a', 'pw': '3'}, {'kg': 84, 'height': 153, 'gender': 'w', 'id': 'ab', 'pw': '32'}, {'kg': 45, 'height': 163, 'gender': 'w', 'id': 'abb', 'pw': '324'}, {'kg': 54, 'height': 177, 'gender': 'w', 'id': 'abbc', 'pw': '3243'}, {'kg': 54, 'height': 162, 'gender': 'w', 'id': 'abbcf', 'pw': '32431'}, {'kg': 55, 'height': 160, 'gender': 'w', 'id': 'abbcfb', 'pw': '324313'}, {'kg': 82, 'height': 154, 'gender': 'M', 'id': 'abbcfbe', 'pw': '3243134'}, {'kg': 49, 'height': 183, 'gender': 'M', 'id': 'abbcfbea', 'pw': '32431343'}, {'kg': 50, 'height': 184, 'gender': 'w', 'id': 'abbcfbead', 'pw': '324313432'}, {'kg': 84, 'height': 185, 'gender': 'w', 'id': 'abbcfbeadf', 'pw': '3243134321'}, {'kg': 53, 'height': 175, 'gender': 'w', 'id': 'a', 'pw': '4'}, {'kg': 60, 'height': 163, 'gender': 'M', 'id': 'ae', 'pw': '44'}, {'kg': 62, 'height': 189, 'gender': 'w', 'id': 'aef', 'pw': '444'}, {'kg': 96, 'height': 154, 'gender': 'w', 'id': 'aeff', 'pw': '4442'}, {'kg': 82, 'height': 187, 'gender': 'w', 'id': 'aeffb', 'pw': '44423'}, {'kg': 58, 'height': 184, 'gender': 'M', 'id': 'aeffba', 'pw': '444232'}, {'kg': 45, 'height': 153, 'gender': 'M', 'id': 'aeffbac', 'pw': '4442322'}, {'kg': 68, 'height': 167, 'gender': 'w', 'id': 'aeffbacb', 'pw': '44423221'}, {'kg': 75, 'height': 168, 'gender': 'w', 'id': 'aeffbacba', 'pw': '444232214'}, {'kg': 77, 'height': 167, 'gender': 'w', 'id': 'aeffbacbab', 'pw': '4442322143'}, {'kg': 73, 'height': 182, 'gender': 'w', 'id': 'd', 'pw': '3'}, {'kg': 51, 'height': 160, 'gender': 'M', 'id': 'da', 'pw': '31'}, {'kg': 45, 'height': 154, 'gender': 'M', 'id': 'daf', 'pw': '311'}, {'kg': 72, 'height': 153, 'gender': 'w', 'id': 'dafc', 'pw': '3113'}, {'kg': 80, 'height': 169, 'gender': 'w', 'id': 'dafcf', 'pw': '31133'}, {'kg': 78, 'height': 186, 'gender': 'M', 'id': 'dafcfa', 'pw': '311333'}, {'kg': 97, 'height': 184, 'gender': 'w', 'id': 'dafcfad', 'pw': '3113334'}, {'kg': 58, 'height': 165, 'gender': 'M', 'id': 'dafcfadc', 'pw': '31133344'}, {'kg': 91, 'height': 175, 'gender': 'M', 'id': 'dafcfadcf', 'pw': '311333443'}, {'kg': 59, 'height': 160, 'gender': 'M', 'id': 'dafcfadcfc', 'pw': '3113334434'}, {'kg': 49, 'height': 165, 'gender': 'w', 'id': 'a', 'pw': '1'}, {'kg': 40, 'height': 171, 'gender': 'w', 'id': 'af', 'pw': '13'}, {'kg': 54, 'height': 176, 'gender': 'w', 'id': 'aff', 'pw': '134'}, {'kg': 59, 'height': 179, 'gender': 'M', 'id': 'affd', 'pw': '1342'}, {'kg': 45, 'height': 172, 'gender': 'w', 'id': 'affdb', 'pw': '13424'}, {'kg': 89, 'height': 170, 'gender': 'M', 'id': 'affdbb', 'pw': '134243'}, {'kg': 74, 'height': 178, 'gender': 'M', 'id': 'affdbbd', 'pw': '1342434'}, {'kg': 50, 'height': 179, 'gender': 'w', 'id': 'affdbbdc', 'pw': '13424344'}, {'kg': 86, 'height': 184, 'gender': 'M', 'id': 'affdbbdcb', 'pw': '134243443'}, {'kg': 63, 'height': 177, 'gender': 'w', 'id': 'affdbbdcbf', 'pw': '1342434434'}, {'kg': 46, 'height': 153, 'gender': 'M', 'id': '', 'pw': '2'}, {'kg': 99, 'height': 175, 'gender': 'M', 'id': '', 'pw': '22'}, {'kg': 73, 'height': 154, 'gender': 'w', 'id': '', 'pw': '221'}, {'kg': 43, 'height': 154, 'gender': 'w', 'id': '', 'pw': '2214'}, {'kg': 74, 'height': 164, 'gender': 'M', 'id': '', 'pw': '22142'}, {'kg': 70, 'height': 150, 'gender': 'w', 'id': '', 'pw': '221424'}, {'kg': 77, 'height': 173, 'gender': 'M', 'id': '', 'pw': '2214244'}, {'kg': 86, 'height': 189, 'gender': 'w', 'id': '', 'pw': '22142443'}, {'kg': 53, 'height': 154, 'gender': 'w', 'id': '', 'pw': '221424431'}, {'kg': 54, 'height': 160, 'gender': 'w', 'id': '', 'pw': '2214244311'}, {'kg': 92, 'height': 162, 'gender': 'w', 'id': '', 'pw': '2'}, {'kg': 85, 'height': 168, 'gender': 'M', 'id': '', 'pw': '24'}, {'kg': 41, 'height': 174, 'gender': 'w', 'id': '', 'pw': '244'}, {'kg': 92, 'height': 165, 'gender': 'M', 'id': '', 'pw': '2444'}, {'kg': 79, 'height': 162, 'gender': 'M', 'id': '', 'pw': '24442'}, {'kg': 44, 'height': 182, 'gender': 'w', 'id': '', 'pw': '244423'}, {'kg': 91, 'height': 154, 'gender': 'M', 'id': '', 'pw': '2444231'}, {'kg': 76, 'height': 151, 'gender': 'M', 'id': '', 'pw': '24442312'}, {'kg': 59, 'height': 182, 'gender': 'M', 'id': '', 'pw': '244423122'}, {'kg': 73, 'height': 178, 'gender': 'M', 'id': '', 'pw': '2444231224'}, {'kg': 42, 'height': 158, 'gender': 'M', 'id': '', 'pw': '1'}, {'kg': 91, 'height': 178, 'gender': 'M', 'id': '', 'pw': '13'}, {'kg': 78, 'height': 169, 'gender': 'M', 'id': '', 'pw': '132'}, {'kg': 87, 'height': 151, 'gender': 'M', 'id': '', 'pw': '1321'}, {'kg': 60, 'height': 157, 'gender': 'w', 'id': '', 'pw': '13211'}, {'kg': 54, 'height': 170, 'gender': 'w', 'id': '', 'pw': '132114'}, {'kg': 94, 'height': 159, 'gender': 'M', 'id': '', 'pw': '1321141'}, {'kg': 64, 'height': 157, 'gender': 'M', 'id': '', 'pw': '13211414'}, {'kg': 45, 'height': 183, 'gender': 'w', 'id': '', 'pw': '132114142'}, {'kg': 68, 'height': 155, 'gender': 'w', 'id': '', 'pw': '1321141422'}, {'kg': 53, 'height': 151, 'gender': 'w', 'id': '', 'pw': '1'}, {'kg': 79, 'height': 173, 'gender': 'M', 'id': '', 'pw': '11'}, {'kg': 41, 'height': 174, 'gender': 'M', 'id': '', 'pw': '111'}, {'kg': 99, 'height': 163, 'gender': 'M', 'id': '', 'pw': '1113'}, {'kg': 50, 'height': 152, 'gender': 'w', 'id': '', 'pw': '11131'}, {'kg': 47, 'height': 172, 'gender': 'w', 'id': '', 'pw': '111313'}, {'kg': 81, 'height': 169, 'gender': 'w', 'id': '', 'pw': '1113132'}, {'kg': 82, 'height': 161, 'gender': 'M', 'id': '', 'pw': '11131322'}, {'kg': 88, 'height': 152, 'gender': 'M', 'id': '', 'pw': '111313221'}, {'kg': 84, 'height': 189, 'gender': 'w', 'id': '', 'pw': '1113132212'}, {'kg': 55, 'height': 178, 'gender': 'M', 'id': '', 'pw': '1'}, {'kg': 74, 'height': 166, 'gender': 'w', 'id': '', 'pw': '12'}, {'kg': 41, 'height': 166, 'gender': 'w', 'id': '', 'pw': '122'}, {'kg': 74, 'height': 170, 'gender': 'M', 'id': '', 'pw': '1222'}, {'kg': 72, 'height': 189, 'gender': 'M', 'id': '', 'pw': '12221'}, {'kg': 57, 'height': 182, 'gender': 'w', 'id': '', 'pw': '122212'}, {'kg': 91, 'height': 175, 'gender': 'w', 'id': '', 'pw': '1222124'}, {'kg': 51, 'height': 159, 'gender': 'w', 'id': '', 'pw': '12221241'}, {'kg': 49, 'height': 184, 'gender': 'M', 'id': '', 'pw': '122212414'}, {'kg': 64, 'height': 151, 'gender': 'w', 'id': '', 'pw': '1222124142'}, {'kg': 84, 'height': 176, 'gender': 'M', 'id': 'fffffffffffffffffffffffffffffffffffffffffffff', 'pw': '4'}, {'kg': 90, 'height': 183, 'gender': 'w', 'id': 'fffffffffffffffffffffffffffffffffffffffffffffffff', 'pw': '44'}, {'kg': 68, 'height': 158, 'gender': 'w', 'id': 'fffffffffffffffffffffffffffffffffffffffffffffffffffff', 'pw': '441'}, {'kg': 85, 'height': 177, 'gender': 'w', 'id': 'fffffffffffffffffffffffffffffffffffffffffffffffffffffffff', 'pw': '4414'}, {'kg': 81, 'height': 182, 'gender': 'M', 'id': 'fffffffffffffffffffffffffffffffffffffffffffffffffffffffffffff', 'pw': '44142'}, {'kg': 85, 'height': 159, 'gender': 'w', 'id': 'fffffffffffffffffffffffffffffffffffffffffffffffffffffffffffffffff', 'pw': '441423'}, {'kg': 73, 'height': 155, 'gender': 'w', 'id': 'fffffffffffffffffffffffffffffffffffffffffffffffffffffffffffffffffffff', 'pw': '4414231'}, {'kg': 60, 'height': 184, 'gender': 'w', 'id': 'fffffffffffffffffffffffffffffffffffffffffffffffffffffffffffffffffffffffff', 'pw': '44142312'}, {'kg': 97, 'height': 182, 'gender': 'M', 'id': 'fffffffffffffffffffffffffffffffffffffffffffffffffffffffffffffffffffffffffffff', 'pw': '441423122'}, {'kg': 95, 'height': 187, 'gender': 'w', 'id': 'fffffffffffffffffffffffffffffffffffffffffffffffffffffffffffffffffffffffffffffffff', 'pw': '4414231222'}, {'kg': 77, 'height': 163, 'gender': 'M', 'id': 'fffffffffffffffffffffffffffffffffffffffffffffffffffffffffffffffffffffffffffffffffffff', 'pw': '1'}, {'kg': 91, 'height': 163, 'gender': 'M', 'id': 'fffffffffffffffffffffffffffffffffffffffffffffffffffffffffffffffffffffffffffffffffffffffff', 'pw': '13'}, {'kg': 82, 'height': 172, 'gender': 'w', 'id': 'fffffffffffffffffffffffffffffffffffffffffffffffffffffffffffffffffffffffffffffffffffffffffffff', 'pw': '131'}, {'kg': 62, 'height': 158, 'gender': 'M', 'id': 'fffffffffffffffffffffffffffffffffffffffffffffffffffffffffffffffffffffffffffffffffffffffffffffffff', 'pw': '1313'}, {'kg': 57, 'height': 185, 'gender': 'w', 'id': 'fffffffffffffffffffffffffffffffffffffffffffffffffffffffffffffffffffffffffffffffffffffffffffffffffffff', 'pw': '13133'}, {'kg': 73, 'height': 150, 'gender': 'w', 'id': 'fffffffffffffffffffffffffffffffffffffffffffffffffffffffffffffffffffffffffffffffffffffffffffffffffffffffff', 'pw': '131332'}, {'kg': 59, 'height': 187, 'gender': 'w', 'id': 'fffffffffffffffffffffffffffffffffffffffffffffffffffffffffffffffffffffffffffffffffffffffffffffffffffffffffffff', 'pw': '1313323'}, {'kg': 54, 'height': 161, 'gender': 'M', 'id': 'fffffffffffffffffffffffffffffffffffffffffffffffffffffffffffffffffffffffffffffffffffffffffffffffffffffffffffffffff', 'pw': '13133231'}, {'kg': 75, 'height': 162, 'gender': 'w', 'id': 'fffffffffffffffffffffffffffffffffffffffffffffffffffffffffffffffffffffffffffffffffffffffffffffffffffffffffffffffffffff', 'pw': '131332313'}, {'kg': 41, 'height': 176, 'gender': 'w', 'id': 'fffffffffffffffffffffffffffffffffffffffffffffffffffffffffffffffffffffffffffffffffffffffffffffffffffffffffffffffffffffffff', 'pw': '1313323134'}, {'kg': 44, 'height': 166, 'gender': 'M', 'id': 'fffffffffffffffffffffffffffffffffffffffffffffffffffffffffffffffffffffffffffffffffffffffffffffffffffffffffffffffffffffffffffff', 'pw': '1'}, {'kg': 77, 'height': 157, 'gender': 'w', 'id': 'fffffffffffffffffffffffffffffffffffffffffffffffffffffffffffffffffffffffffffffffffffffffffffffffffffffffffffffffffffffffffffffffff', 'pw': '14'}, {'kg': 58, 'height': 186, 'gender': 'w', 'id': 'fffffffffffffffffffffffffffffffffffffffffffffffffffffffffffffffffffffffffffffffffffffffffffffffffffffffffffffffffffffffffffffffffffff', 'pw': '144'}, {'kg': 74, 'height': 160, 'gender': 'w', 'id': 'fffffffffffffffffffffffffffffffffffffffffffffffffffffffffffffffffffffffffffffffffffffffffffffffffffffffffffffffffffffffffffffffffffffffff', 'pw': '1444'}, {'kg': 41, 'height': 179, 'gender': 'w', 'id': 'fffffffffffffffffffffffffffffffffffffffffffffffffffffffffffffffffffffffffffffffffffffffffffffffffffffffffffffffffffffffffffffffffffffffffffff', 'pw': '14444'}, {'kg': 75, 'height': 178, 'gender': 'w', 'id': 'fffffffffffffffffffffffffffffffffffffffffffffffffffffffffffffffffffffffffffffffffffffffffffffffffffffffffffffffffffffffffffffffffffffffffffffffff', 'pw': '144441'}, {'kg': 92, 'height': 172, 'gender': 'M', 'id': 'fffffffffffffffffffffffffffffffffffffffffffffffffffffffffffffffffffffffffffffffffffffffffffffffffffffffffffffffffffffffffffffffffffffffffffffffffffff', 'pw': '1444412'}, {'kg': 89, 'height': 166, 'gender': 'M', 'id': 'fffffffffffffffffffffffffffffffffffffffffffffffffffffffffffffffffffffffffffffffffffffffffffffffffffffffffffffffffffffffffffffffffffffffffffffffffffffffff', 'pw': '14444122'}, {'kg': 64, 'height': 155, 'gender': 'M', 'id': 'fffffffffffffffffffffffffffffffffffffffffffffffffffffffffffffffffffffffffffffffffffffffffffffffffffffffffffffffffffffffffffffffffffffffffffffffffffffffffffff', 'pw': '144441224'}, {'kg': 95, 'height': 172, 'gender': 'w', 'id': 'fffffffffffffffffffffffffffffffffffffffffffffffffffffffffffffffffffffffffffffffffffffffffffffffffffffffffffffffffffffffffffffffffffffffffffffffffffffffffffffffff', 'pw': '1444412242'}, {'kg': 63, 'height': 175, 'gender': 'w', 'id': 'fffffffffffffffffffffffffffffffffffffffffffffffffffffffffffffffffffffffffffffffffffffffffffffffffffffffffffffffffffffffffffffffffffffffffffffffffffffffffffffffffffff', 'pw': '2'}, {'kg': 88, 'height': 183, 'gender': 'M', 'id': 'fffffffffffffffffffffffffffffffffffffffffffffffffffffffffffffffffffffffffffffffffffffffffffffffffffffffffffffffffffffffffffffffffffffffffffffffffffffffffffffffffffffffff', 'pw': '24'}, {'kg': 90, 'height': 154, 'gender': 'w', 'id': 'fffffffffffffffffffffffffffffffffffffffffffffffffffffffffffffffffffffffffffffffffffffffffffffffffffffffffffffffffffffffffffffffffffffffffffffffffffffffffffffffffffffffffffff', 'pw': '241'}, {'kg': 47, 'height': 183, 'gender': 'w', 'id': 'fffffffffffffffffffffffffffffffffffffffffffffffffffffffffffffffffffffffffffffffffffffffffffffffffffffffffffffffffffffffffffffffffffffffffffffffffffffffffffffffffffffffffffffffff', 'pw': '2414'}, {'kg': 65, 'height': 165, 'gender': 'M', 'id': 'fffffffffffffffffffffffffffffffffffffffffffffffffffffffffffffffffffffffffffffffffffffffffffffffffffffffffffffffffffffffffffffffffffffffffffffffffffffffffffffffffffffffffffffffffffff', 'pw': '24144'}, {'kg': 61, 'height': 167, 'gender': 'M', 'id': 'fffffffffffffffffffffffffffffffffffffffffffffffffffffffffffffffffffffffffffffffffffffffffffffffffffffffffffffffffffffffffffffffffffffffffffffffffffffffffffffffffffffffffffffffffffffffff', 'pw': '241442'}, {'kg': 91, 'height': 176, 'gender': 'w', 'id': 'fffffffffffffffffffffffffffffffffffffffffffffffffffffffffffffffffffffffffffffffffffffffffffffffffffffffffffffffffffffffffffffffffffffffffffffffffffffffffffffffffffffffffffffffffffffffffffff', 'pw': '2414422'}, {'kg': 74, 'height': 182, 'gender': 'M', 'id': 'fffffffffffffffffffffffffffffffffffffffffffffffffffffffffffffffffffffffffffffffffffffffffffffffffffffffffffffffffffffffffffffffffffffffffffffffffffffffffffffffffffffffffffffffffffffffffffffffff', 'pw': '24144224'}, {'kg': 43, 'height': 186, 'gender': 'w', 'id': 'fffffffffffffffffffffffffffffffffffffffffffffffffffffffffffffffffffffffffffffffffffffffffffffffffffffffffffffffffffffffffffffffffffffffffffffffffffffffffffffffffffffffffffffffffffffffffffffffffffff', 'pw': '241442241'}, {'kg': 67, 'height': 157, 'gender': 'M', 'id': 'fffffffffffffffffffffffffffffffffffffffffffffffffffffffffffffffffffffffffffffffffffffffffffffffffffffffffffffffffffffffffffffffffffffffffffffffffffffffffffffffffffffffffffffffffffffffffffffffffffffffff', 'pw': '2414422413'}, {'kg': 67, 'height': 177, 'gender': 'M', 'id': 'eeeeeeee', 'pw': '12'}, {'kg': 69, 'height': 185, 'gender': 'w', 'id': 'eeeeeeeeeeeeeeee', 'pw': '1211'}, {'kg': 83, 'height': 161, 'gender': 'w', 'id': 'eeeeeeeeeeeeeeeeaaaaaaaa', 'pw': '121124'}, {'kg': 99, 'height': 162, 'gender': 'w', 'id': 'eeeeeeeeeeeeeeeeaaaaaaaaffffffff', 'pw': '12112422'}, {'kg': 88, 'height': 155, 'gender': 'w', 'id': 'eeeeeeeeeeeeeeeeaaaaaaaaffffffffbbbbbbbb', 'pw': '1211242232'}, {'kg': 40, 'height': 152, 'gender': 'M', 'id': 'eeeeeeeeeeeeeeeeaaaaaaaaffffffffbbbbbbbbaaaaaaaa', 'pw': '121124223223'}, {'kg': 45, 'height': 178, 'gender': 'M', 'id': 'eeeeeeeeeeeeeeeeaaaaaaaaffffffffbbbbbbbbaaaaaaaadddddddd', 'pw': '12112422322314'}, {'kg': 67, 'height': 154, 'gender': 'M', 'id': 'eeeeeeeeeeeeeeeeaaaaaaaaffffffffbbbbbbbbaaaaaaaaddddddddaaaaaaaa', 'pw': '1211242232231411'}, {'kg': 47, 'height': 172, 'gender': 'M', 'id': 'eeeeeeeeeeeeeeeeaaaaaaaaffffffffbbbbbbbbaaaaaaaaddddddddaaaaaaaaeeeeeeee', 'pw': '121124223223141123'}, {'kg': 84, 'height': 159, 'gender': 'w', 'id': 'eeeeeeeeeeeeeeeeaaaaaaaaffffffffbbbbbbbbaaaaaaaaddddddddaaaaaaaaeeeeeeeedddddddd', 'pw': '12112422322314112332'}, {'kg': 84, 'height': 163, 'gender': 'M', 'id': 'cccccccc', 'pw': '11'}, {'kg': 41, 'height': 156, 'gender': 'M', 'id': 'ccccccccffffffff', 'pw': '1132'}, {'kg': 80, 'height': 188, 'gender': 'M', 'id': 'ccccccccffffffffeeeeeeee', 'pw': '113234'}, {'kg': 83, 'height': 186, 'gender': 'w', 'id': 'ccccccccffffffffeeeeeeeeaaaaaaaa', 'pw': '11323433'}, {'kg': 96, 'height': 180, 'gender': 'w', 'id': 'ccccccccffffffffeeeeeeeeaaaaaaaaaaaaaaaa', 'pw': '1132343311'}, {'kg': 70, 'height': 185, 'gender': 'w', 'id': 'ccccccccffffffffeeeeeeeeaaaaaaaaaaaaaaaaffffffff', 'pw': '113234331124'}, {'kg': 92, 'height': 187, 'gender': 'M', 'id': 'ccccccccffffffffeeeeeeeeaaaaaaaaaaaaaaaaffffffffffffffff', 'pw': '11323433112423'}, {'kg': 90, 'height': 173, 'gender': 'M', 'id': 'ccccccccffffffffeeeeeeeeaaaaaaaaaaaaaaaaffffffffffffffffffffffff', 'pw': '1132343311242312'}, {'kg': 50, 'height': 151, 'gender': 'w', 'id': 'ccccccccffffffffeeeeeeeeaaaaaaaaaaaaaaaaffffffffffffffffffffffffeeeeeeee', 'pw': '113234331124231214'}, {'kg': 99, 'height': 176, 'gender': 'w', 'id': 'ccccccccffffffffeeeeeeeeaaaaaaaaaaaaaaaaffffffffffffffffffffffffeeeeeeeeffffffff', 'pw': '11323433112423121432'}, {'kg': 99, 'height': 181, 'gender': 'w', 'id': 'cccccccc', 'pw': '4422'}, {'kg': 58, 'height': 167, 'gender': 'M', 'id': 'ccccccccffffffff', 'pw': '44224433'}, {'kg': 69, 'height': 160, 'gender': 'M', 'id': 'ccccccccffffffffffffffff', 'pw': '442244332313'}, {'kg': 70, 'height': 167, 'gender': 'M', 'id': 'ccccccccffffffffffffffffeeeeeeee', 'pw': '4422443323132121'}, {'kg': 68, 'height': 175, 'gender': 'w', 'id': 'ccccccccffffffffffffffffeeeeeeeecccccccc', 'pw': '44224433231321212442'}, {'kg': 45, 'height': 181, 'gender': 'M', 'id': 'ccccccccffffffffffffffffeeeeeeeecccccccccccccccc', 'pw': '442244332313212124421122'}, {'kg': 46, 'height': 159, 'gender': 'M', 'id': 'ccccccccffffffffffffffffeeeeeeeecccccccccccccccccccccccc', 'pw': '4422443323132121244211222313'}, {'kg': 87, 'height': 189, 'gender': 'w', 'id': 'ccccccccffffffffffffffffeeeeeeeeccccccccccccccccccccccccbbbbbbbb', 'pw': '44224433231321212442112223132214'}, {'kg': 65, 'height': 188, 'gender': 'w', 'id': 'ccccccccffffffffffffffffeeeeeeeeccccccccccccccccccccccccbbbbbbbbeeeeeeee', 'pw': '442244332313212124421122231322143221'}, {'kg': 91, 'height': 153, 'gender': 'w', 'id': 'ccccccccffffffffffffffffeeeeeeeeccccccccccccccccccccccccbbbbbbbbeeeeeeeeaaaaaaaa', 'pw': '4422443323132121244211222313221432214144'}, {'kg': 84, 'height': 177, 'gender': 'M', 'id': 'cccc', 'pw': '4244'}, {'kg': 75, 'height': 188, 'gender': 'M', 'id': 'ccccaaaa', 'pw': '42443233'}, {'kg': 47, 'height': 170, 'gender': 'M', 'id': 'ccccaaaaaaaa', 'pw': '424432334311'}, {'kg': 85, 'height': 181, 'gender': 'w', 'id': 'ccccaaaaaaaaaaaa', 'pw': '4244323343111432'}, {'kg': 48, 'height': 161, 'gender': 'w', 'id': 'ccccaaaaaaaaaaaacccc', 'pw': '42443233431114321321'}, {'kg': 41, 'height': 178, 'gender': 'M', 'id': 'ccccaaaaaaaaaaaacccccccc', 'pw': '424432334311143213214414'}, {'kg': 45, 'height': 168, 'gender': 'w', 'id': 'ccccaaaaaaaaaaaaccccccccbbbb', 'pw': '4244323343111432132144144233'}, {'kg': 70, 'height': 184, 'gender': 'M', 'id': 'ccccaaaaaaaaaaaaccccccccbbbbeeee', 'pw': '42443233431114321321441442333422'}, {'kg': 40, 'height': 189, 'gender': 'w', 'id': 'ccccaaaaaaaaaaaaccccccccbbbbeeeedddd', 'pw': '424432334311143213214414423334224142'}, {'kg': 40, 'height': 155, 'gender': 'w', 'id': 'ccccaaaaaaaaaaaaccccccccbbbbeeeeddddeeee', 'pw': '4244323343111432132144144233342241422414'}, {'kg': 82, 'height': 178, 'gender': 'M', 'id': 'dddd', 'pw': '2341'}, {'kg': 75, 'height': 183, 'gender': 'w', 'id': 'ddddaaaa', 'pw': '23412312'}, {'kg': 43, 'height': 173, 'gender': 'w', 'id': 'ddddaaaabbbb', 'pw': '234123124444'}, {'kg': 75, 'height': 186, 'gender': 'M', 'id': 'ddddaaaabbbbdddd', 'pw': '2341231244443142'}, {'kg': 66, 'height': 183, 'gender': 'M', 'id': 'ddddaaaabbbbddddbbbb', 'pw': '23412312444431421313'}, {'kg': 62, 'height': 179, 'gender': 'M', 'id': 'ddddaaaabbbbddddbbbbcccc', 'pw': '234123124444314213132421'}, {'kg': 71, 'height': 176, 'gender': 'M', 'id': 'ddddaaaabbbbddddbbbbccccaaaa', 'pw': '2341231244443142131324214212'}, {'kg': 75, 'height': 150, 'gender': 'w', 'id': 'ddddaaaabbbbddddbbbbccccaaaabbbb', 'pw': '23412312444431421313242142123441'}, {'kg': 47, 'height': 158, 'gender': 'w', 'id': 'ddddaaaabbbbddddbbbbccccaaaabbbbaaaa', 'pw': '234123124444314213132421421234412343'}, {'kg': 51, 'height': 189, 'gender': 'M', 'id': 'ddddaaaabbbbddddbbbbccccaaaabbbbaaaacccc', 'pw': '2341231244443142131324214212344123433113'}]\n"
     ]
    }
   ],
   "source": [
    "from random import *\n",
    "# 키 값 : ID = id, PW = pw, 이름 = name, 키 = height, 몸무게 = kg, 성별 = gender \n",
    "\n",
    "\n",
    "User_table=['id', 'pw' ]\n",
    "\n",
    "\n",
    "p = ''\n",
    "dd = ''\n",
    "for i in range(1,11):\n",
    "    ddi = {}\n",
    "    si = randrange(1,7)\n",
    "    for x in range(1,5):\n",
    "        if s == 1:\n",
    "            bb = 'a'\n",
    "        elif s == 2:\n",
    "            bb = 'b'\n",
    "        elif s == 3:\n",
    "            bb = 'c'\n",
    "        elif s == 4:\n",
    "            bb = 'd'\n",
    "        elif s == 5:\n",
    "            bb = 'e'\n",
    "        elif s == 6:\n",
    "            bb = 'f'\n",
    "        dd += bb\n",
    "    \n",
    "    for t in range(1,5):\n",
    "        s = randrange(1,5)\n",
    "        p += str(s)\n",
    "    x = randrange(150,190)\n",
    "    y = randrange(40,100)\n",
    "    z = randrange(1,3)\n",
    "    if z == 1:\n",
    "        c = 'M'\n",
    "    else:\n",
    "        c = \"w\"\n",
    "    ddi['kg'] = y\n",
    "    ddi['height'] = x\n",
    "    ddi['gender'] = c\n",
    "    ddi['id'] = dd\n",
    "    ddi['pw'] = p\n",
    "    \n",
    "    \n",
    "    cc.append(ddi)\n",
    "    \n",
    "    \n",
    "print(cc)"
   ]
  },
  {
   "cell_type": "markdown",
   "metadata": {},
   "source": [
    "### [16,60,]\n",
    "tt = []\n",
    "for i in range(1,10):\n",
    "    x = randrange(150,190)\n",
    "    tt.append(x)\n",
    "print(tt)"
   ]
  },
  {
   "cell_type": "code",
   "execution_count": 138,
   "metadata": {},
   "outputs": [
    {
     "ename": "NameError",
     "evalue": "name 'pw_result' is not defined",
     "output_type": "error",
     "traceback": [
      "\u001b[1;31m---------------------------------------------------------------------------\u001b[0m",
      "\u001b[1;31mNameError\u001b[0m                                 Traceback (most recent call last)",
      "\u001b[1;32m<ipython-input-138-d1183d15543a>\u001b[0m in \u001b[0;36m<module>\u001b[1;34m\u001b[0m\n\u001b[1;32m----> 1\u001b[1;33m \u001b[0mprint\u001b[0m\u001b[1;33m(\u001b[0m\u001b[0mpw_result\u001b[0m\u001b[1;33m)\u001b[0m\u001b[1;33m\u001b[0m\u001b[1;33m\u001b[0m\u001b[0m\n\u001b[0m",
      "\u001b[1;31mNameError\u001b[0m: name 'pw_result' is not defined"
     ]
    }
   ],
   "source": [
    "print(pw_result)"
   ]
  },
  {
   "cell_type": "code",
   "execution_count": null,
   "metadata": {},
   "outputs": [],
   "source": [
    "import string\n",
    "import random\n",
    "# 키 값 : ID = id, PW = pw, 이름 = name, 키 = height, 몸무게 = kg, 성별 = gender \n",
    "\n",
    "\n",
    "user_table = [] # user table 만들기\n",
    "alpha_list = string.ascii_lowercase # 소문자 영어 알파벳 저자\n",
    "\n",
    "id_length = 4 # id 길이\n",
    "id_result = \"\" # 최종 id 변수 생성\n",
    "\n",
    "pw_length = 10\n",
    "pw_len\n",
    "# id 길이 만큼 알파벳 랜덤으로 id 생성\n",
    "for z in range(1,10) :\n",
    "    for i in range(id_length) :\n",
    "        id_result += random.choice(alpha_list)\n",
    "    user_table.append({\"id\":id_result})\n",
    "    id_result = \"\"\n",
    "\n",
    "print(alpha_list)"
   ]
  },
  {
   "cell_type": "code",
   "execution_count": null,
   "metadata": {},
   "outputs": [],
   "source": []
  },
  {
   "cell_type": "code",
   "execution_count": null,
   "metadata": {},
   "outputs": [],
   "source": [
    "#유저테이블\n",
    "user_table = [{'id' : '123', 'pw': '123', 'name' : '둘리','height': 175, 'kg' : 70, 'gender' : 'M'},\n",
    "             {'id' : '456', 'pw': '456','name' : '희동','height': 180, 'kg' : 75, 'gender' : 'M'}\n",
    "             ]\n",
    "\n",
    "buy_table = [{'id' : '123','top': 'A','bottom' : 'A','top_size': 2, 'bottom_size' : 2},\n",
    "            {'id' : '123','top': 'B','bottom' : 'B','top_size': 2,'bottom_size' : 2},\n",
    "             {'id' : '456','top': 'A','bottom' : 'A','top_size': 3, 'bottom_size' : 3},\n",
    "            {'id' : '456','top': 'B','bottom' : 'B','top_size': 3, 'bottom_size' : 3}\n",
    "            ]"
   ]
  },
  {
   "cell_type": "code",
   "execution_count": null,
   "metadata": {},
   "outputs": [],
   "source": []
  },
  {
   "cell_type": "code",
   "execution_count": 159,
   "metadata": {},
   "outputs": [
    {
     "ename": "SyntaxError",
     "evalue": "invalid syntax (<ipython-input-159-cdf3171a3c98>, line 34)",
     "output_type": "error",
     "traceback": [
      "\u001b[1;36m  File \u001b[1;32m\"<ipython-input-159-cdf3171a3c98>\"\u001b[1;36m, line \u001b[1;32m34\u001b[0m\n\u001b[1;33m    elif:\u001b[0m\n\u001b[1;37m        ^\u001b[0m\n\u001b[1;31mSyntaxError\u001b[0m\u001b[1;31m:\u001b[0m invalid syntax\n"
     ]
    }
   ],
   "source": [
    "from random import *\n",
    "#  ID = id, 상의 = top, 하의  = bottom, 상의_사이즈 = top_size, 하의_사이즈 = bottom_size\n",
    "\n",
    "\n",
    "p = ''\n",
    "user_table = []\n",
    "dd = ''\n",
    "for i in range(1,11):\n",
    "    ddi = {}\n",
    "    for x in range(3,11):\n",
    "        sx = randrange(1,7)\n",
    "        if sx == 1:\n",
    "            idd = 'S'\n",
    "        elif sx == 2:\n",
    "            idd = 'M'\n",
    "        elif sx == 3:\n",
    "            idd = 'L'\n",
    "        elif sx == 4:\n",
    "            idd = 'XL'\n",
    "        elif sx == 5:\n",
    "            idd = 'XXL'\n",
    "        elif sx == 6:\n",
    "            idd = 'f'\n",
    "        dd += idd\n",
    "    \n",
    "    for y in range(1,7):\n",
    "        sy = randrange(1,5)\n",
    "        p += str(sy)\n",
    "    x = randrange(150,190)\n",
    "    y = randrange(40,100)\n",
    "    z = randrange(1,5)\n",
    "    if z == 1:\n",
    "        c = 's'\n",
    "    elif:\n",
    "        c = \"m\"\n",
    "    elif:\n",
    "        c = 'L'\n",
    "    elif:\n",
    "        c = 'XL'\n",
    "    ddi['kg'] = y\n",
    "    ddi['height'] = x\n",
    "    ddi['gender'] = c\n",
    "    ddi['top'] = dd\n",
    "    ddi['pw'] = p\n",
    "    \n",
    "    user_table.append(ddi)\n",
    "    dd = ''\n",
    "    p = ''\n",
    "    \n",
    "print(user_table)"
   ]
  },
  {
   "cell_type": "code",
   "execution_count": 170,
   "metadata": {},
   "outputs": [
    {
     "name": "stdout",
     "output_type": "stream",
     "text": [
      "[{'top': 'L', 'top_size': 3, 'bottom': 'M', 'bottom_size': ''}, {'top': 'M', 'top_size': 2, 'bottom': 'M', 'bottom_size': ''}, {'top': 'L', 'top_size': 3, 'bottom': 'M', 'bottom_size': ''}, {'top': 'L', 'top_size': 3, 'bottom': 'M', 'bottom_size': ''}, {'top': 'S', 'top_size': 1, 'bottom': 'M', 'bottom_size': ''}, {'top': 'M', 'top_size': 2, 'bottom': 'w', 'bottom_size': ''}, {'top': 'M', 'top_size': 2, 'bottom': 'M', 'bottom_size': ''}, {'top': 'S', 'top_size': 1, 'bottom': 'M', 'bottom_size': ''}, {'top': 'M', 'top_size': 2, 'bottom': 'w', 'bottom_size': ''}, {'top': 'L', 'top_size': 3, 'bottom': 'w', 'bottom_size': ''}]\n"
     ]
    }
   ],
   "source": [
    "from random import *\n",
    "# 키 값 : 상의 = top, 하의  = bottom, 상의_사이즈 = top_size, 하의_사이즈 = bottom_size\n",
    "\n",
    "p = ''\n",
    "cc = []\n",
    "dd = ''\n",
    "\n",
    "for i in range(1,11):\n",
    "    ddi = {}\n",
    "       \n",
    "    for y in range(1,7):\n",
    "        sy = randrange(1,5)\n",
    "        p += str(sy)\n",
    "        \n",
    "    x = randrange(1,4)\n",
    "    \n",
    "    if x == 1:\n",
    "        tsts = 'S'\n",
    "    elif x == 2:\n",
    "        tsts = 'M'\n",
    "    else: \n",
    "        tsts = 'L'\n",
    "        \n",
    "    y = randrange(40,100)\n",
    "    \n",
    "    z = randrange(1,3)\n",
    "    \n",
    "    if z == 1:\n",
    "        c = 'M'\n",
    "    else:\n",
    "        c = \"w\"\n",
    "    \n",
    "    ddi['top'] = y\n",
    "    ddi['top_size'] = x\n",
    "    ddi['bottom'] = c\n",
    "    ddi['bottom_size'] = dd\n",
    "    \n",
    "    cc.append(ddi)\n",
    "    dd = ''\n",
    "    p = ''\n",
    "    \n",
    "print(cc)"
   ]
  },
  {
   "cell_type": "code",
   "execution_count": null,
   "metadata": {},
   "outputs": [],
   "source": [
    "for i in range(1, 10):\n",
    "    "
   ]
  }
 ],
 "metadata": {
  "kernelspec": {
   "display_name": "Python 3",
   "language": "python",
   "name": "python3"
  },
  "language_info": {
   "codemirror_mode": {
    "name": "ipython",
    "version": 3
   },
   "file_extension": ".py",
   "mimetype": "text/x-python",
   "name": "python",
   "nbconvert_exporter": "python",
   "pygments_lexer": "ipython3",
   "version": "3.7.6"
  }
 },
 "nbformat": 4,
 "nbformat_minor": 4
}
