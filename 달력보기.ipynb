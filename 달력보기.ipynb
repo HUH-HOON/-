{
 "cells": [
  {
   "cell_type": "code",
   "execution_count": null,
   "metadata": {},
   "outputs": [],
   "source": [
    "year, month, day = map(int,input('년 월 일 을 입력하세요 : ').split())\n",
    "\n",
    "\n",
    "print('='*28) \n",
    "print('        {}년 {}일'.format(year,month)) \n",
    "print('='*28) \n",
    "print(' 일  월  화  수  목  금  토 ') \n",
    "print('='*28)\n",
    "\n",
    "\n",
    "print('    ' * weekDay(year, month, 1), end = '') \n",
    "for i in range(1, lastDay(year,month)+1) : \n",
    "    print(' %2d' % i, end=' ') \n",
    "    if (weekDay(year, month, 1) + i) % 7 == 0 : \n",
    "        print() \n",
    "if (weekDay(year, month, 1) + i) % 7 == 0 : \n",
    "    print('='*28) \n",
    "else : \n",
    "    print('\\n' + '='*28)"
   ]
  },
  {
   "cell_type": "code",
   "execution_count": null,
   "metadata": {},
   "outputs": [],
   "source": []
  }
 ],
 "metadata": {
  "kernelspec": {
   "display_name": "Python 3",
   "language": "python",
   "name": "python3"
  },
  "language_info": {
   "codemirror_mode": {
    "name": "ipython",
    "version": 3
   },
   "file_extension": ".py",
   "mimetype": "text/x-python",
   "name": "python",
   "nbconvert_exporter": "python",
   "pygments_lexer": "ipython3",
   "version": "3.7.6"
  }
 },
 "nbformat": 4,
 "nbformat_minor": 4
}
