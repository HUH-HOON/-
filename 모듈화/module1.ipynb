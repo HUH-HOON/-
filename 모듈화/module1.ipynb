{
 "cells": [
  {
   "cell_type": "code",
   "execution_count": 3,
   "metadata": {},
   "outputs": [],
   "source": [
    "def 나머지(a,b):\n",
    "    a % b\n",
    "    \n",
    "def 몫(a,b):\n",
    "    a // b"
   ]
  },
  {
   "cell_type": "code",
   "execution_count": 4,
   "metadata": {},
   "outputs": [],
   "source": [
    "class FourCal:             # 클래스 지정\n",
    "    def setdata(self, a, b): \n",
    "        self.a = a\n",
    "        self.b = b\n",
    "    def add(object):\n",
    "        result = object.a + object. b\n",
    "        return result\n",
    "    def sub(object):\n",
    "        result = object.a - object. b\n",
    "        return result\n",
    "    def mul(object):\n",
    "        result = object.a * object.b\n",
    "        return result\n",
    "    def div(object):\n",
    "        \n",
    "        result = object.a / object.b\n",
    "        return result"
   ]
  },
  {
   "cell_type": "code",
   "execution_count": null,
   "metadata": {},
   "outputs": [],
   "source": []
  }
 ],
 "metadata": {
  "kernelspec": {
   "display_name": "Python 3",
   "language": "python",
   "name": "python3"
  },
  "language_info": {
   "codemirror_mode": {
    "name": "ipython",
    "version": 3
   },
   "file_extension": ".py",
   "mimetype": "text/x-python",
   "name": "python",
   "nbconvert_exporter": "python",
   "pygments_lexer": "ipython3",
   "version": "3.7.6"
  }
 },
 "nbformat": 4,
 "nbformat_minor": 4
}
