{
 "cells": [
  {
   "cell_type": "markdown",
   "metadata": {},
   "source": [
    "# 2. 반복문"
   ]
  },
  {
   "cell_type": "code",
   "execution_count": null,
   "metadata": {},
   "outputs": [],
   "source": [
    "for   #  많은 데이터 단순노가다.(생각x)\n",
    "\n",
    "while #  조건에 만족하면 반복.(조건이라는 생각을 함.)"
   ]
  },
  {
   "cell_type": "markdown",
   "metadata": {},
   "source": [
    "# # for 문"
   ]
  },
  {
   "cell_type": "code",
   "execution_count": null,
   "metadata": {},
   "outputs": [],
   "source": [
    "for i in [1,2,3]"
   ]
  },
  {
   "cell_type": "code",
   "execution_count": 2,
   "metadata": {},
   "outputs": [
    {
     "name": "stdout",
     "output_type": "stream",
     "text": [
      "1\n",
      "2\n",
      "3\n"
     ]
    }
   ],
   "source": [
    "for a in [1,2,3]: #리스트, 튜플, 문자열 :\n",
    "    print(a)\n",
    "    \n",
    "  #  실행문 1\n",
    "   # 실행문 2\n",
    "   # ..."
   ]
  },
  {
   "cell_type": "code",
   "execution_count": 3,
   "metadata": {},
   "outputs": [
    {
     "name": "stdout",
     "output_type": "stream",
     "text": [
      "1\n",
      "2\n",
      "3\n"
     ]
    }
   ],
   "source": [
    "a = 1\n",
    "print(a)\n",
    "\n",
    "a = 2\n",
    "print(a)\n",
    "\n",
    "a = 3\n",
    "print(a)"
   ]
  },
  {
   "cell_type": "code",
   "execution_count": 6,
   "metadata": {},
   "outputs": [
    {
     "name": "stdout",
     "output_type": "stream",
     "text": [
      "(1, 3)\n",
      "{5, 7}\n",
      "9\n"
     ]
    }
   ],
   "source": [
    "for a in [(1,3),{5,7},9]:\n",
    "    print(a)"
   ]
  },
  {
   "cell_type": "code",
   "execution_count": 9,
   "metadata": {},
   "outputs": [
    {
     "name": "stdout",
     "output_type": "stream",
     "text": [
      "3\n",
      "7\n",
      "11\n"
     ]
    }
   ],
   "source": [
    "for (a,b) in [(1,2), (3,4), (5,6)]:\n",
    "    print(a+b)"
   ]
  },
  {
   "cell_type": "code",
   "execution_count": 11,
   "metadata": {},
   "outputs": [
    {
     "name": "stdout",
     "output_type": "stream",
     "text": [
      "1 2\n"
     ]
    }
   ],
   "source": [
    "(a,b) = 1,2\n",
    "print(a,b)"
   ]
  },
  {
   "cell_type": "code",
   "execution_count": 12,
   "metadata": {},
   "outputs": [
    {
     "name": "stdout",
     "output_type": "stream",
     "text": [
      "H\n",
      "e\n",
      "l\n",
      "l\n",
      "o\n",
      "!\n"
     ]
    }
   ],
   "source": [
    "a = 'Hello!'\n",
    "b = ['Hello!', 'World']\n",
    "c = 1,2,3\n",
    "\n",
    "for x in a:\n",
    "    print(x)"
   ]
  },
  {
   "cell_type": "code",
   "execution_count": 13,
   "metadata": {},
   "outputs": [
    {
     "name": "stdout",
     "output_type": "stream",
     "text": [
      "Hello!\n",
      "World\n"
     ]
    }
   ],
   "source": [
    "a = 'Hello!'\n",
    "b = ['Hello!', 'World']\n",
    "c = 1,2,3\n",
    "\n",
    "for x in b:\n",
    "    print(x)"
   ]
  },
  {
   "cell_type": "code",
   "execution_count": 16,
   "metadata": {},
   "outputs": [
    {
     "name": "stdout",
     "output_type": "stream",
     "text": [
      "123"
     ]
    }
   ],
   "source": [
    "a = 'Hello!'\n",
    "b = ['Hello!', 'World']\n",
    "c = 1,2,3\n",
    "\n",
    "for x in c:\n",
    "    print(x, end='') # print 안에 end='' 를 입력하면 가로로 나온다."
   ]
  },
  {
   "cell_type": "code",
   "execution_count": 18,
   "metadata": {},
   "outputs": [
    {
     "name": "stdout",
     "output_type": "stream",
     "text": [
      "circle\n",
      "rectangle\n",
      "line\n"
     ]
    }
   ],
   "source": [
    "d = {'circle':2, 'rectangle':3, 'line':1}   # 딕셔너리 데이터를 만지는법.(키값만 나온다.)\n",
    "e = {'red', 'green', 'blue', 'red'}\n",
    "\n",
    "for x in d:\n",
    "    print(x)"
   ]
  },
  {
   "cell_type": "code",
   "execution_count": 20,
   "metadata": {},
   "outputs": [
    {
     "name": "stdout",
     "output_type": "stream",
     "text": [
      "blue\n",
      "green\n",
      "red\n"
     ]
    }
   ],
   "source": [
    "d = {'circle':2, 'rectangle':3, 'line':1}  \n",
    "e = {'red', 'green', 'blue', 'red'}         # 중복을 허용하지 않고 랜덤으로 출력.\n",
    "\n",
    "for x in e:\n",
    "    print(x)"
   ]
  },
  {
   "cell_type": "code",
   "execution_count": null,
   "metadata": {},
   "outputs": [],
   "source": [
    "# for 문 + if else 조건문"
   ]
  },
  {
   "cell_type": "code",
   "execution_count": 27,
   "metadata": {},
   "outputs": [
    {
     "name": "stdout",
     "output_type": "stream",
     "text": [
      "1번 합격\n",
      "2번 불합격\n",
      "3번 합격\n",
      "4번 불합격\n"
     ]
    }
   ],
   "source": [
    "score = [100, 7, 75, 32]\n",
    "num = 0\n",
    "for a in score:\n",
    "    num = num +1\n",
    "    if a >= 70:\n",
    "        print('%d번 합격'%num)   # %d 을 이용 하여 넘버가 다르게 나오게 한다.\n",
    "    else:\n",
    "        print('%d번 불합격'%num) # 불합격도 동일하게 %를 사용한다."
   ]
  },
  {
   "cell_type": "code",
   "execution_count": 28,
   "metadata": {},
   "outputs": [
    {
     "name": "stdout",
     "output_type": "stream",
     "text": [
      "1번 불합격\n",
      "2번 불합격\n",
      "3번 합격\n",
      "4번 불합격\n"
     ]
    }
   ],
   "source": [
    "score = [100, 400, 10000, 43]   # for 문 예시\n",
    "num = 0\n",
    "for a in score:\n",
    "    num = num+1\n",
    "    if a >= 3000:\n",
    "        print('%d번 합격'%num)\n",
    "    else :\n",
    "        print('%d번 불합격'%num)"
   ]
  },
  {
   "cell_type": "code",
   "execution_count": null,
   "metadata": {},
   "outputs": [],
   "source": [
    "# continue"
   ]
  },
  {
   "cell_type": "code",
   "execution_count": 29,
   "metadata": {},
   "outputs": [
    {
     "name": "stdout",
     "output_type": "stream",
     "text": [
      "1번 합격\n",
      "3번 합격\n"
     ]
    }
   ],
   "source": [
    "score = [100, 7, 75, 32]\n",
    "num = 0\n",
    "for a in score:\n",
    "    num = num +1\n",
    "    if a < 70:\n",
    "        continue               # 해당 값에 대해서 출력하고 싶지 않을때.   \n",
    "    else:\n",
    "        print('%d번 합격'%num)"
   ]
  },
  {
   "cell_type": "code",
   "execution_count": 34,
   "metadata": {},
   "outputs": [
    {
     "name": "stdout",
     "output_type": "stream",
     "text": [
      "range(0, 10)\n"
     ]
    }
   ],
   "source": [
    "# range 함수\n",
    "a = range(10)           # range 함수는  [0,1,2,3,4,5,6,7,8,9] 을 뜻한다.\n",
    "print(a)"
   ]
  },
  {
   "cell_type": "code",
   "execution_count": 35,
   "metadata": {},
   "outputs": [
    {
     "name": "stdout",
     "output_type": "stream",
     "text": [
      "0\n",
      "1\n",
      "3\n",
      "6\n",
      "10\n",
      "15\n",
      "21\n",
      "28\n",
      "36\n",
      "45\n"
     ]
    }
   ],
   "source": [
    "b = 0\n",
    "for x in range(10) :    # 누적값을 구할때 사용할수 있는 함수.\n",
    "    b = b+x\n",
    "    print(b)"
   ]
  },
  {
   "cell_type": "code",
   "execution_count": 36,
   "metadata": {},
   "outputs": [
    {
     "name": "stdout",
     "output_type": "stream",
     "text": [
      "1번 합격\n",
      "3번 합격\n"
     ]
    }
   ],
   "source": [
    "score = [100, 7, 75, 32]\n",
    "for a in range(len(score)):   # len(score) = 4, range(4) = [0,1,2,3]\n",
    "    if score[a] < 60:\n",
    "        continue\n",
    "    print('%d번 합격'%(a+1))"
   ]
  },
  {
   "cell_type": "code",
   "execution_count": 43,
   "metadata": {},
   "outputs": [
    {
     "name": "stdout",
     "output_type": "stream",
     "text": [
      "24681012141618\n",
      "369121518212427\n",
      "4812162024283236\n",
      "51015202530354045\n",
      "61218243036424854\n",
      "71421283542495663\n",
      "81624324048566472\n",
      "91827364554637281\n"
     ]
    }
   ],
   "source": [
    "for x in range(2,10):        # x = 2\n",
    "    for y in range(1,10):    # y = 1,~9\n",
    "        print(x*y, end='')   # end 사용해서 가로로 출력.\n",
    "    print('')                # x값이 끝난후에 다음줄로 출력."
   ]
  },
  {
   "cell_type": "code",
   "execution_count": 45,
   "metadata": {},
   "outputs": [
    {
     "name": "stdout",
     "output_type": "stream",
     "text": [
      "1부터 10까지 합: 55\n"
     ]
    }
   ],
   "source": [
    "a = 0\n",
    "for b in range(1,11):\n",
    "    a = a+b\n",
    "print('1부터 10까지 합:',a)  # print 들여쓰기의 차이점."
   ]
  },
  {
   "cell_type": "code",
   "execution_count": 46,
   "metadata": {},
   "outputs": [
    {
     "name": "stdout",
     "output_type": "stream",
     "text": [
      "1부터 100까지 합: 5050\n"
     ]
    }
   ],
   "source": [
    "a = 0\n",
    "for b in range(1,101):\n",
    "    a = a+b\n",
    "print('1부터 100까지 합:',a)  # print 들여쓰기의 차이점."
   ]
  },
  {
   "cell_type": "code",
   "execution_count": 48,
   "metadata": {},
   "outputs": [
    {
     "name": "stdout",
     "output_type": "stream",
     "text": [
      "1부터 100까지 홀수합: 2500\n"
     ]
    }
   ],
   "source": [
    "a = 0\n",
    "for b in range(1,101, 2):\n",
    "    a = a+b\n",
    "print('1부터 100까지 홀수합:',a)  "
   ]
  },
  {
   "cell_type": "code",
   "execution_count": 50,
   "metadata": {},
   "outputs": [
    {
     "name": "stdout",
     "output_type": "stream",
     "text": [
      "1부터 100까지 짝수합: 2550\n"
     ]
    }
   ],
   "source": [
    "a = 0\n",
    "for b in range(0,101,2):\n",
    "    a = a+b\n",
    "print('1부터 100까지 짝수합:',a)  "
   ]
  },
  {
   "cell_type": "code",
   "execution_count": 52,
   "metadata": {},
   "outputs": [
    {
     "name": "stdout",
     "output_type": "stream",
     "text": [
      "3의배수 혹은 7의 배수의 합: 2208\n"
     ]
    }
   ],
   "source": [
    "a = 0\n",
    "for b in range(1,101):\n",
    "    if (b % 3)== 0 or (b % 7) == 0:\n",
    "        a = a+b\n",
    "print('3의배수 혹은 7의 배수의 합:',a)  "
   ]
  },
  {
   "cell_type": "code",
   "execution_count": 54,
   "metadata": {},
   "outputs": [
    {
     "name": "stdout",
     "output_type": "stream",
     "text": [
      "[3, 6, 9, 12, 15]\n"
     ]
    }
   ],
   "source": [
    "lst =[1,2,3,4,5]\n",
    "result =[]\n",
    "for num in lst:\n",
    "    result.append(num*3)   # append 함수 이용.\n",
    "print(result)"
   ]
  },
  {
   "cell_type": "code",
   "execution_count": 55,
   "metadata": {},
   "outputs": [
    {
     "name": "stdout",
     "output_type": "stream",
     "text": [
      "[3, 6, 9, 12, 15]\n"
     ]
    }
   ],
   "source": [
    "lst =[1,2,3,4,5]\n",
    "result =[num*3 for num in lst]   # 연산 수행을 간단히 할수 있다.\n",
    "print(result)   "
   ]
  },
  {
   "cell_type": "code",
   "execution_count": 56,
   "metadata": {},
   "outputs": [
    {
     "name": "stdout",
     "output_type": "stream",
     "text": [
      "[6, 12]\n"
     ]
    }
   ],
   "source": [
    "lst =[1,2,3,4,5]\n",
    "result =[num*3 for num in lst if num % 2 == 0]   \n",
    "print(result)   "
   ]
  },
  {
   "cell_type": "markdown",
   "metadata": {},
   "source": [
    "#  while 문"
   ]
  },
  {
   "cell_type": "code",
   "execution_count": null,
   "metadata": {},
   "outputs": [],
   "source": [
    "# while 조건문:\n",
    "    # 실행문\n",
    "    # 조건을 언젠가 만족시키지 않게 하는 조건.(멈추게 할 수 있는 점.)"
   ]
  },
  {
   "cell_type": "code",
   "execution_count": 57,
   "metadata": {},
   "outputs": [
    {
     "name": "stdout",
     "output_type": "stream",
     "text": [
      "1\n",
      "2\n",
      "3\n",
      "4\n",
      "5\n"
     ]
    }
   ],
   "source": [
    "a = 1\n",
    "while a <=5:\n",
    "    print(a)\n",
    "    a = a + 1"
   ]
  },
  {
   "cell_type": "code",
   "execution_count": 60,
   "metadata": {},
   "outputs": [
    {
     "name": "stdout",
     "output_type": "stream",
     "text": [
      "1부터 100까지 합: 5050\n"
     ]
    }
   ],
   "source": [
    "a = 1\n",
    "b = 0\n",
    "while a <= 100:\n",
    "    b = b + a\n",
    "    a = a + 1\n",
    "print('1부터 100까지 합:',b)"
   ]
  },
  {
   "cell_type": "code",
   "execution_count": 63,
   "metadata": {},
   "outputs": [
    {
     "name": "stdout",
     "output_type": "stream",
     "text": [
      "지불했으니 사탕을 줍니다\n",
      "남은 사탕의 양은 3개입니다.\n",
      "지불했으니 사탕을 줍니다\n",
      "남은 사탕의 양은 2개입니다.\n",
      "지불했으니 사탕을 줍니다\n",
      "남은 사탕의 양은 1개입니다.\n",
      "지불했으니 사탕을 줍니다\n",
      "남은 사탕의 양은 0개입니다.\n",
      "사탕이 떨어졌습니다. 판매 중지!\n"
     ]
    }
   ],
   "source": [
    "candy = 4 \n",
    "money = 300\n",
    "while money: # true / false 값을 구하기 위해 조건문을 쓴다.\n",
    "    print('지불했으니 사탕을 줍니다')\n",
    "    candy = candy-1\n",
    "    print('남은 사탕의 양은 %d개입니다.' % candy)\n",
    "    if candy == 0:\n",
    "        print('사탕이 떨어졌습니다. 판매 중지!')\n",
    "        break                                   # break 문을 통해서 해당 결과를 구하면 멈춤.\n",
    "        \n",
    "    "
   ]
  },
  {
   "cell_type": "code",
   "execution_count": 61,
   "metadata": {},
   "outputs": [
    {
     "data": {
      "text/plain": [
       "True"
      ]
     },
     "execution_count": 61,
     "metadata": {},
     "output_type": "execute_result"
    }
   ],
   "source": [
    "bool(300)"
   ]
  },
  {
   "cell_type": "code",
   "execution_count": 62,
   "metadata": {},
   "outputs": [
    {
     "data": {
      "text/plain": [
       "False"
      ]
     },
     "execution_count": 62,
     "metadata": {},
     "output_type": "execute_result"
    }
   ],
   "source": [
    "bool('')"
   ]
  },
  {
   "cell_type": "code",
   "execution_count": 64,
   "metadata": {},
   "outputs": [
    {
     "name": "stdout",
     "output_type": "stream",
     "text": [
      "중단할 문자:p\n"
     ]
    }
   ],
   "source": [
    "a = input('중단할 문자:')\n",
    "for b in 'python':\n",
    "    if b == a:\n",
    "        break\n",
    "    print(b, end='')\n",
    "else:\n",
    "    print('모든 문자 출력 완료!')"
   ]
  },
  {
   "cell_type": "code",
   "execution_count": 66,
   "metadata": {},
   "outputs": [
    {
     "name": "stdout",
     "output_type": "stream",
     "text": [
      "중단할 문자:t\n",
      "py"
     ]
    }
   ],
   "source": [
    "a = input('중단할 문자:')\n",
    "for b in 'python':\n",
    "    if b == a:\n",
    "        break\n",
    "    print(b, end='')\n",
    "else:\n",
    "    print('모든 문자 출력 완료!')"
   ]
  },
  {
   "cell_type": "code",
   "execution_count": 67,
   "metadata": {},
   "outputs": [
    {
     "name": "stdout",
     "output_type": "stream",
     "text": [
      "중단할 문자:h\n",
      "p\n",
      "y\n",
      "t\n",
      "o\n",
      "n\n"
     ]
    }
   ],
   "source": [
    "a = input('중단할 문자:')          # for 문에서 continue 을 사용할때. 다음데이터로 넘겨준다.\n",
    "for b in 'python':\n",
    "    if b == a:\n",
    "        continue\n",
    "    print(b)"
   ]
  },
  {
   "cell_type": "code",
   "execution_count": 68,
   "metadata": {},
   "outputs": [
    {
     "name": "stdout",
     "output_type": "stream",
     "text": [
      "중단할 문자:h\n",
      "p\n",
      "y\n",
      "t\n",
      "h\n",
      "o\n",
      "n\n"
     ]
    }
   ],
   "source": [
    "a = input('중단할 문자:')       # pass 라는 함수를 사용할때. 그냥 ok 하고 끝낸다.\n",
    "for b in 'python':\n",
    "    if b == a:\n",
    "        pass\n",
    "    print(b)"
   ]
  },
  {
   "cell_type": "code",
   "execution_count": 69,
   "metadata": {},
   "outputs": [
    {
     "name": "stdout",
     "output_type": "stream",
     "text": [
      "입금300\n",
      "커피를 줍니다\n",
      "남은 커피의 양은 2개 입니다\n",
      "입금500\n",
      "거스름돈 200를 주고 커피를 줍니다\n",
      "남은 커피의 양은 1개 입니다\n",
      "입금200\n",
      "돈을 다시 돌려주고 커피를 주지 않습니다.\n",
      "남은 커피의 양은 1개 입니다\n",
      "입금300\n",
      "커피를 줍니다\n",
      "남은 커피의 양은 0개 입니다\n",
      "커피가 다 떨어졌습니다. 판매를 중지합니다\n"
     ]
    }
   ],
   "source": [
    "coffee = 3\n",
    "while True :\n",
    "    money = int(input('입금'))\n",
    "    if money == 300:\n",
    "        print('커피를 줍니다')\n",
    "        coffee = coffee -1\n",
    "    elif money >300:\n",
    "        print('거스름돈 %d를 주고 커피를 줍니다' %(money - 300))\n",
    "        coffee = coffee -1\n",
    "    else:\n",
    "        print('돈을 다시 돌려주고 커피를 주지 않습니다.')\n",
    "    print('남은 커피의 양은 %d개 입니다' % coffee)\n",
    "    if coffee == 0:\n",
    "        print('커피가 다 떨어졌습니다. 판매를 중지합니다')\n",
    "        break"
   ]
  },
  {
   "cell_type": "code",
   "execution_count": null,
   "metadata": {},
   "outputs": [],
   "source": [
    "#년/월/일 값을 넣어서 무슨 요일인지 구하시오.\n",
    "# 서기 1년 1월 1일은 월요일이다.\n",
    "# 윤년을 구하는 공식은 다음과 같다.\n",
    "# 4로 나누어지는 해는 윤년이다.\n",
    "#100으로 나누어 지는 해는 윤년이 아니다.\n",
    "#400으로 나누어 지는 해는 윤년이다.\n",
    "#년월일을 입력 받는다."
   ]
  },
  {
   "cell_type": "code",
   "execution_count": null,
   "metadata": {},
   "outputs": [],
   "source": [
    "year = '년'\n",
    "month = '월'\n",
    "day = '일'\n",
    "\n"
   ]
  },
  {
   "cell_type": "code",
   "execution_count": null,
   "metadata": {},
   "outputs": [],
   "source": []
  },
  {
   "cell_type": "code",
   "execution_count": null,
   "metadata": {},
   "outputs": [],
   "source": []
  },
  {
   "cell_type": "code",
   "execution_count": null,
   "metadata": {},
   "outputs": [],
   "source": []
  },
  {
   "cell_type": "code",
   "execution_count": null,
   "metadata": {},
   "outputs": [],
   "source": []
  }
 ],
 "metadata": {
  "kernelspec": {
   "display_name": "Python 3",
   "language": "python",
   "name": "python3"
  },
  "language_info": {
   "codemirror_mode": {
    "name": "ipython",
    "version": 3
   },
   "file_extension": ".py",
   "mimetype": "text/x-python",
   "name": "python",
   "nbconvert_exporter": "python",
   "pygments_lexer": "ipython3",
   "version": "3.7.6"
  }
 },
 "nbformat": 4,
 "nbformat_minor": 4
}
