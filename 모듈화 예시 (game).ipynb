{
 "cells": [
  {
   "cell_type": "code",
   "execution_count": null,
   "metadata": {},
   "outputs": [],
   "source": [
    "game/\n",
    "    sound/\n",
    "        echo.py\n",
    "        wav.py\n",
    "    graphic/\n",
    "        screen.py\n",
    "        render.py\n",
    "    play/\n",
    "        run.py\n",
    "        test.py"
   ]
  },
  {
   "cell_type": "code",
   "execution_count": 7,
   "metadata": {},
   "outputs": [
    {
     "data": {
      "text/plain": [
       "['C:\\\\Users\\\\Playdata',\n",
       " 'C:\\\\Users\\\\Playdata\\\\anaconda3\\\\python37.zip',\n",
       " 'C:\\\\Users\\\\Playdata\\\\anaconda3\\\\DLLs',\n",
       " 'C:\\\\Users\\\\Playdata\\\\anaconda3\\\\lib',\n",
       " 'C:\\\\Users\\\\Playdata\\\\anaconda3',\n",
       " '',\n",
       " 'C:\\\\Users\\\\Playdata\\\\anaconda3\\\\lib\\\\site-packages',\n",
       " 'C:\\\\Users\\\\Playdata\\\\anaconda3\\\\lib\\\\site-packages\\\\win32',\n",
       " 'C:\\\\Users\\\\Playdata\\\\anaconda3\\\\lib\\\\site-packages\\\\win32\\\\lib',\n",
       " 'C:\\\\Users\\\\Playdata\\\\anaconda3\\\\lib\\\\site-packages\\\\Pythonwin',\n",
       " 'C:\\\\Users\\\\Playdata\\\\anaconda3\\\\lib\\\\site-packages\\\\IPython\\\\extensions',\n",
       " 'C:\\\\Users\\\\Playdata\\\\.ipython',\n",
       " 'C:\\\\doit',\n",
       " 'C:\\\\doit',\n",
       " 'C:\\\\doit',\n",
       " 'C:\\\\doit\\\\game']"
      ]
     },
     "execution_count": 7,
     "metadata": {},
     "output_type": "execute_result"
    }
   ],
   "source": [
    "import sys\n",
    "sys.path.append('C:\\doit\\game')\n",
    "sys.path"
   ]
  },
  {
   "cell_type": "code",
   "execution_count": 8,
   "metadata": {},
   "outputs": [],
   "source": [
    "import game"
   ]
  },
  {
   "cell_type": "code",
   "execution_count": null,
   "metadata": {},
   "outputs": [],
   "source": [
    "game."
   ]
  }
 ],
 "metadata": {
  "kernelspec": {
   "display_name": "Python 3",
   "language": "python",
   "name": "python3"
  },
  "language_info": {
   "codemirror_mode": {
    "name": "ipython",
    "version": 3
   },
   "file_extension": ".py",
   "mimetype": "text/x-python",
   "name": "python",
   "nbconvert_exporter": "python",
   "pygments_lexer": "ipython3",
   "version": "3.7.6"
  }
 },
 "nbformat": 4,
 "nbformat_minor": 4
}
