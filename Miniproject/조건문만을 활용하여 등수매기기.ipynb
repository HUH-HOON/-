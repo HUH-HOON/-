{
 "cells": [
  {
   "cell_type": "code",
   "execution_count": 15,
   "metadata": {},
   "outputs": [],
   "source": [
    "exam = [\n",
    "{'num':'1', 'name':'김철수', 'kor':90, 'eng':80, 'math':85, 'total':0, 'avg':85.0, 'order':0},\n",
    "{'num':'2', 'name':'박제동', 'kor':90, 'eng':85, 'math':90, 'total':0, 'avg':88.3, 'order':0}, \n",
    "{'num':'3', 'name':'홍길동', 'kor':80, 'eng':80, 'math':80, 'total':0, 'avg':80.0, 'order':0}\n",
    "]"
   ]
  },
  {
   "cell_type": "code",
   "execution_count": 16,
   "metadata": {},
   "outputs": [],
   "source": [
    "exam[0]['avg'] = (exam[0]['kor'] + exam[0]['eng'] + exam[0]['math']) /3  \n",
    "exam[1]['avg'] = (exam[1]['kor'] + exam[1]['eng'] + exam[1]['math']) /3\n",
    "exam[2]['avg'] = (exam[2]['kor'] + exam[2]['eng'] + exam[2]['math']) /3"
   ]
  },
  {
   "cell_type": "code",
   "execution_count": 17,
   "metadata": {},
   "outputs": [],
   "source": [
    "# 1. 평균이 구해졌을때 자동으로 등수가 입력되는 프로그램을 기획합니다.\n",
    "# 2. 지금까지 배운 조건문과 반복문을 사용해서 등수를 구합니다.\n",
    "# 3. 완성된 코드를 제출하고 가장 짧은 코드를 대표로 공유합니다."
   ]
  },
  {
   "cell_type": "code",
   "execution_count": 28,
   "metadata": {},
   "outputs": [
    {
     "ename": "SyntaxError",
     "evalue": "invalid syntax (<ipython-input-28-0e66bb65330c>, line 1)",
     "output_type": "error",
     "traceback": [
      "\u001b[1;36m  File \u001b[1;32m\"<ipython-input-28-0e66bb65330c>\"\u001b[1;36m, line \u001b[1;32m1\u001b[0m\n\u001b[1;33m    for item in range(1,'avg')\u001b[0m\n\u001b[1;37m                              ^\u001b[0m\n\u001b[1;31mSyntaxError\u001b[0m\u001b[1;31m:\u001b[0m invalid syntax\n"
     ]
    }
   ],
   "source": [
    "\n",
    "for item in range(1,'avg')\n",
    "    if item 'avg' >= 'avg' == A:\n",
    "    print('1등입니다.')\n",
    "    elif item 'avg' >= 'avg' == B:\n",
    "    print('2등입니다.')\n",
    "    else item 'avg' >= 'avg' == C:\n",
    "    print('3등입니다.')\n",
    "\n",
    "    "
   ]
  },
  {
   "cell_type": "code",
   "execution_count": null,
   "metadata": {},
   "outputs": [],
   "source": [
    "#평균이 구해졌을때 자동으로 등수가 입력되는 프로그램.\n",
    "\n",
    "#1. 평균을 한집단으로 모은다.\n",
    "#2. 평균 끼리 while 문을 반복\n",
    "#3. lenge 값을 넣는다.\n",
    "#3. 반복하여 제일 큰수일때 멈춘다.\n",
    "#4. 그 결과를 출력한다."
   ]
  },
  {
   "cell_type": "code",
   "execution_count": null,
   "metadata": {},
   "outputs": [],
   "source": [
    "for i in range(len(exam)):\n",
    "    exam[i]['total'] = (exam[i]['kor']+exam[i]['eng']+exam[i]['math'])\n",
    "    exam[i]['avg'] = (exam[i]['kor']+exam[i]['eng']+exam[i]['math'])/len(exam)\n",
    "    exam[i]['order'] = 1\n",
    "\n",
    "for i in range(len(exam)):\n",
    "    for j in range(i+1,len(exam)):\n",
    "        if exam[i]['avg'] > exam[j]['avg']:\n",
    "            exam[j]['order'] += 1\n",
    "        elif exam[j]['avg'] > exam[i]['avg']:\n",
    "            exam[i]['order'] += 1\n",
    "print(exam)\n",
    "\n",
    "# 김민지님 정답."
   ]
  },
  {
   "cell_type": "code",
   "execution_count": null,
   "metadata": {},
   "outputs": [],
   "source": [
    "exam = sorted(exam, key=lambda x: x['avg'], reverse=True)\n",
    "for i in range(len(exam)):\n",
    "    exam[i]['order'] = i + 1\n",
    "    if i > 0:\n",
    "        if exam[i-1]['avg'] == exam[i]['avg']:\n",
    "            exam[i]['order'] = exam[i-1]['order']\n",
    "            \n",
    "            \n",
    "# 홍원기님 정답."
   ]
  }
 ],
 "metadata": {
  "kernelspec": {
   "display_name": "Python 3",
   "language": "python",
   "name": "python3"
  },
  "language_info": {
   "codemirror_mode": {
    "name": "ipython",
    "version": 3
   },
   "file_extension": ".py",
   "mimetype": "text/x-python",
   "name": "python",
   "nbconvert_exporter": "python",
   "pygments_lexer": "ipython3",
   "version": "3.7.6"
  }
 },
 "nbformat": 4,
 "nbformat_minor": 4
}
