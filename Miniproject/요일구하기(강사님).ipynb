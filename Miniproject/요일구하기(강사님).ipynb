{
 "cells": [
  {
   "cell_type": "code",
   "execution_count": 2,
   "metadata": {},
   "outputs": [
    {
     "name": "stdout",
     "output_type": "stream",
     "text": [
      "년도 입력:2020\n",
      "월 입력:06\n",
      "일 입력:29\n",
      "월요일\n"
     ]
    }
   ],
   "source": [
    "year = int(input('년도 입력:'))\n",
    "month = int(input('월 입력:'))\n",
    "day = int(input('일 입력:'))\n",
    "\n",
    "total_days = 0\n",
    "\n",
    "year_month_days =[0,31,28,31,30,31,30,31,31,30,31,30,31]   # 컴퓨터 언어의 특성상 0을 넣어줘야 0,1,2,3 순서로 읽힌다.\n",
    "\n",
    "for item in range(1, year):\n",
    "    if item % 400 == 0:\n",
    "        total_days = total_days +366\n",
    "    elif item % 100 == 0:\n",
    "        total_days = total_days +365\n",
    "    elif item % 4 ==0:\n",
    "        total_days = total_days +366\n",
    "    else:\n",
    "        total_days = total_days +365\n",
    "        \n",
    "for i in range(1, month):\n",
    "    total_days = total_days + year_month_days[i]\n",
    "    \n",
    "if month >= 3:                                         # 2월이 윤달인지에 따라 결과값이 달라지니 넣어주는함수.\n",
    "        if year % 400 ==0:\n",
    "            total_days = total_days +1\n",
    "        elif year % 100 == 0:\n",
    "            total_days = total_days+0\n",
    "        elif year % 4 == 0:\n",
    "            total_days = total_days+1\n",
    "        else:\n",
    "            total_days = total_days+0\n",
    "            \n",
    "            \n",
    "total_days += day\n",
    "\n",
    "remainder = total_days % 7\n",
    "if remainder == 0:\n",
    "    print('일요일')\n",
    "elif remainder == 1:\n",
    "    print('월요일')\n",
    "elif remainder == 2:\n",
    "    print('화요일')\n",
    "elif remainder == 3:\n",
    "    print('수요일')\n",
    "elif remainder == 4:\n",
    "    print('목요일')\n",
    "elif remainder == 5:\n",
    "    print('금요일')\n",
    "elif remainder == 6:\n",
    "    print('토요일')\n",
    "    \n",
    "    \n",
    "    \n",
    "\n"
   ]
  },
  {
   "cell_type": "code",
   "execution_count": null,
   "metadata": {},
   "outputs": [],
   "source": []
  }
 ],
 "metadata": {
  "kernelspec": {
   "display_name": "Python 3",
   "language": "python",
   "name": "python3"
  },
  "language_info": {
   "codemirror_mode": {
    "name": "ipython",
    "version": 3
   },
   "file_extension": ".py",
   "mimetype": "text/x-python",
   "name": "python",
   "nbconvert_exporter": "python",
   "pygments_lexer": "ipython3",
   "version": "3.7.6"
  }
 },
 "nbformat": 4,
 "nbformat_minor": 4
}
